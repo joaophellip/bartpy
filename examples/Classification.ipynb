{
 "cells": [
  {
   "cell_type": "code",
   "source": [
    "from bartpy.classifiersklearnmodel import ClassifierSklearnModel\n",
    "import pandas as pd\n",
    "from joblib import dump, load\n",
    "from sklearn.metrics import confusion_matrix, ConfusionMatrixDisplay\n",
    "\n",
    "SKIP_TRAINING = True\n",
    "\n",
    "try:\n",
    "    restored_model = load(\"first_model.joblib\")\n",
    "    print(restored_model)\n",
    "    CACHED_MODEL = True\n",
    "except:\n",
    "    CACHED_MODEL = False\n",
    "    pass\n",
    "\n",
    "data_df = pd.read_csv('creditcard.csv')\n",
    "indexes_df = pd.read_csv('indexes.csv')\n",
    "\n",
    "if not SKIP_TRAINING or not CACHED_MODEL:\n",
    "\n",
    "    idx = indexes_df[indexes_df['ds'] == 'training']['index'].values - 1  # indexes generated in R - starting in 1\n",
    "    model = ClassifierSklearnModel(n_burn=1000, n_chains=1, n_jobs=1, n_samples=2000, n_trees=10, alpha=0.95, beta=2.0)\n",
    "    X = data_df.drop('Class', axis=1).iloc[idx, ]\n",
    "    y = data_df['Class'].iloc[idx, ]\n",
    "\n",
    "    model.fit(X, y)\n",
    "\n",
    "    dump(model, 'first_model.joblib')\n",
    "else:\n",
    "    model = restored_model\n",
    "\n",
    "print(\"validating...\")\n",
    "val_idx = indexes_df[indexes_df['ds'] == 'validation']['index'].values - 1\n",
    "val_x = data_df.drop('Class', axis=1).iloc[val_idx, ]\n",
    "val_y = data_df['Class'].iloc[val_idx, ]\n",
    "\n",
    "prob_pred = model.predict(val_x)\n",
    "binary_pred = [1 if x > 0.5 else 0 for x in prob_pred]\n",
    "\n",
    "#cm = confusion_matrix(val_y, binary_pred)\n",
    "#cm_display = ConfusionMatrixDisplay(cm).plot()\n",
    "\n",
    "print(f\"top-1 accuracy: {(binary_pred == val_y).sum() / val_y.shape[0]}\")\n",
    "\n",
    "print(\"a prob: \" + prob_pred[0])"
   ],
   "metadata": {
    "collapsed": false,
    "pycharm": {
     "name": "#%%\n"
    }
   },
   "execution_count": 1,
   "outputs": [
    {
     "name": "stdout",
     "output_type": "stream",
     "text": [
      "ClassifierSklearnModel(n_burn=1000, n_chains=1, n_jobs=1, n_samples=2000,\n",
      "                       n_trees=10,\n",
      "                       tree_sampler=<bartpy.samplers.unconstrainedtree.treemutation.UnconstrainedTreeMutationSampler object at 0x7f3b892f5b20>)\n",
      "validating...\n",
      "heree\n",
      "top-1 accuracy: 0.9988636794060831\n"
     ]
    },
    {
     "ename": "TypeError",
     "evalue": "can only concatenate str (not \"numpy.float64\") to str",
     "output_type": "error",
     "traceback": [
      "\u001B[0;31m---------------------------------------------------------------------------\u001B[0m",
      "\u001B[0;31mTypeError\u001B[0m                                 Traceback (most recent call last)",
      "\u001B[0;32m/tmp/ipykernel_2501/3335840186.py\u001B[0m in \u001B[0;36m<module>\u001B[0;34m\u001B[0m\n\u001B[1;32m     43\u001B[0m \u001B[0mprint\u001B[0m\u001B[0;34m(\u001B[0m\u001B[0;34mf\"top-1 accuracy: {(binary_pred == val_y).sum() / val_y.shape[0]}\"\u001B[0m\u001B[0;34m)\u001B[0m\u001B[0;34m\u001B[0m\u001B[0;34m\u001B[0m\u001B[0m\n\u001B[1;32m     44\u001B[0m \u001B[0;34m\u001B[0m\u001B[0m\n\u001B[0;32m---> 45\u001B[0;31m \u001B[0mprint\u001B[0m\u001B[0;34m(\u001B[0m\u001B[0;34m\"a prob: \"\u001B[0m \u001B[0;34m+\u001B[0m \u001B[0mprob_pred\u001B[0m\u001B[0;34m[\u001B[0m\u001B[0;36m0\u001B[0m\u001B[0;34m]\u001B[0m\u001B[0;34m)\u001B[0m\u001B[0;34m\u001B[0m\u001B[0;34m\u001B[0m\u001B[0m\n\u001B[0m\u001B[1;32m     46\u001B[0m \u001B[0;34m\u001B[0m\u001B[0m\n",
      "\u001B[0;31mTypeError\u001B[0m: can only concatenate str (not \"numpy.float64\") to str"
     ]
    }
   ]
  },
  {
   "cell_type": "code",
   "execution_count": null,
   "outputs": [],
   "source": [],
   "metadata": {
    "collapsed": false,
    "pycharm": {
     "name": "#%%\n"
    }
   }
  }
 ],
 "metadata": {
  "kernelspec": {
   "display_name": "Python 3",
   "language": "python",
   "name": "python3"
  },
  "language_info": {
   "codemirror_mode": {
    "name": "ipython",
    "version": 3
   },
   "file_extension": ".py",
   "mimetype": "text/x-python",
   "name": "python",
   "nbconvert_exporter": "python",
   "pygments_lexer": "ipython3",
   "version": "3.7.4-final"
  }
 },
 "nbformat": 4,
 "nbformat_minor": 1
}